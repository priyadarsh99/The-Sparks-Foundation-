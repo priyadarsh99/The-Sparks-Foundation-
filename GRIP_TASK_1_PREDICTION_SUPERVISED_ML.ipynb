{
  "nbformat": 4,
  "nbformat_minor": 0,
  "metadata": {
    "colab": {
      "name": "GRIP_TASK_1_PREDICTION_SUPERVISED_ML.ipynb",
      "provenance": [],
      "collapsed_sections": []
    },
    "kernelspec": {
      "name": "python3",
      "display_name": "Python 3"
    },
    "language_info": {
      "name": "python"
    }
  },
  "cells": [
    {
      "cell_type": "markdown",
      "source": [
        "# \\#GRIPAPR2022\n",
        "## **TASK 1: Prediction Using Supervised ML**\n",
        "### *Problem: Predict the Percentage of Marks a student obtains on the basis of the No. of hours studied.*"
      ],
      "metadata": {
        "id": "c-9Qay6KGFce"
      }
    },
    {
      "cell_type": "markdown",
      "source": [
        "### Importing Packages"
      ],
      "metadata": {
        "id": "QfXoQceWHT3x"
      }
    },
    {
      "cell_type": "code",
      "execution_count": null,
      "metadata": {
        "id": "4dWBFkau-zCs"
      },
      "outputs": [],
      "source": [
        "import numpy as np\n",
        "import pandas as pd \n",
        "import matplotlib.pyplot as plt \n",
        "%matplotlib inline \n",
        "from sklearn.model_selection import train_test_split\n",
        "from sklearn.linear_model import LinearRegression"
      ]
    },
    {
      "cell_type": "markdown",
      "source": [
        "### Loading DataSet"
      ],
      "metadata": {
        "id": "y0zhfzjlHafO"
      }
    },
    {
      "cell_type": "code",
      "source": [
        "stud = pd.read_csv('http://bit.ly/w-data')\n"
      ],
      "metadata": {
        "id": "Lt1pH3gH_c50"
      },
      "execution_count": null,
      "outputs": []
    },
    {
      "cell_type": "code",
      "source": [
        "stud.shape #calculating shape of the dataset"
      ],
      "metadata": {
        "colab": {
          "base_uri": "https://localhost:8080/"
        },
        "id": "ovITuJzg_ixf",
        "outputId": "dbc63f6e-9c19-425c-beff-6ef9686277dc"
      },
      "execution_count": null,
      "outputs": [
        {
          "output_type": "execute_result",
          "data": {
            "text/plain": [
              "(25, 2)"
            ]
          },
          "metadata": {},
          "execution_count": 4
        }
      ]
    },
    {
      "cell_type": "code",
      "source": [
        "stud.head(10) #showing first 10 entries of the dataset"
      ],
      "metadata": {
        "colab": {
          "base_uri": "https://localhost:8080/",
          "height": 363
        },
        "id": "SF3dVIpt_j2Y",
        "outputId": "3af72d86-e29b-49b8-9509-90a500986007"
      },
      "execution_count": null,
      "outputs": [
        {
          "output_type": "execute_result",
          "data": {
            "text/plain": [
              "   Hours  Scores\n",
              "0    2.5      21\n",
              "1    5.1      47\n",
              "2    3.2      27\n",
              "3    8.5      75\n",
              "4    3.5      30\n",
              "5    1.5      20\n",
              "6    9.2      88\n",
              "7    5.5      60\n",
              "8    8.3      81\n",
              "9    2.7      25"
            ],
            "text/html": [
              "\n",
              "  <div id=\"df-0523c7b9-072d-45be-a5ee-199a882e0139\">\n",
              "    <div class=\"colab-df-container\">\n",
              "      <div>\n",
              "<style scoped>\n",
              "    .dataframe tbody tr th:only-of-type {\n",
              "        vertical-align: middle;\n",
              "    }\n",
              "\n",
              "    .dataframe tbody tr th {\n",
              "        vertical-align: top;\n",
              "    }\n",
              "\n",
              "    .dataframe thead th {\n",
              "        text-align: right;\n",
              "    }\n",
              "</style>\n",
              "<table border=\"1\" class=\"dataframe\">\n",
              "  <thead>\n",
              "    <tr style=\"text-align: right;\">\n",
              "      <th></th>\n",
              "      <th>Hours</th>\n",
              "      <th>Scores</th>\n",
              "    </tr>\n",
              "  </thead>\n",
              "  <tbody>\n",
              "    <tr>\n",
              "      <th>0</th>\n",
              "      <td>2.5</td>\n",
              "      <td>21</td>\n",
              "    </tr>\n",
              "    <tr>\n",
              "      <th>1</th>\n",
              "      <td>5.1</td>\n",
              "      <td>47</td>\n",
              "    </tr>\n",
              "    <tr>\n",
              "      <th>2</th>\n",
              "      <td>3.2</td>\n",
              "      <td>27</td>\n",
              "    </tr>\n",
              "    <tr>\n",
              "      <th>3</th>\n",
              "      <td>8.5</td>\n",
              "      <td>75</td>\n",
              "    </tr>\n",
              "    <tr>\n",
              "      <th>4</th>\n",
              "      <td>3.5</td>\n",
              "      <td>30</td>\n",
              "    </tr>\n",
              "    <tr>\n",
              "      <th>5</th>\n",
              "      <td>1.5</td>\n",
              "      <td>20</td>\n",
              "    </tr>\n",
              "    <tr>\n",
              "      <th>6</th>\n",
              "      <td>9.2</td>\n",
              "      <td>88</td>\n",
              "    </tr>\n",
              "    <tr>\n",
              "      <th>7</th>\n",
              "      <td>5.5</td>\n",
              "      <td>60</td>\n",
              "    </tr>\n",
              "    <tr>\n",
              "      <th>8</th>\n",
              "      <td>8.3</td>\n",
              "      <td>81</td>\n",
              "    </tr>\n",
              "    <tr>\n",
              "      <th>9</th>\n",
              "      <td>2.7</td>\n",
              "      <td>25</td>\n",
              "    </tr>\n",
              "  </tbody>\n",
              "</table>\n",
              "</div>\n",
              "      <button class=\"colab-df-convert\" onclick=\"convertToInteractive('df-0523c7b9-072d-45be-a5ee-199a882e0139')\"\n",
              "              title=\"Convert this dataframe to an interactive table.\"\n",
              "              style=\"display:none;\">\n",
              "        \n",
              "  <svg xmlns=\"http://www.w3.org/2000/svg\" height=\"24px\"viewBox=\"0 0 24 24\"\n",
              "       width=\"24px\">\n",
              "    <path d=\"M0 0h24v24H0V0z\" fill=\"none\"/>\n",
              "    <path d=\"M18.56 5.44l.94 2.06.94-2.06 2.06-.94-2.06-.94-.94-2.06-.94 2.06-2.06.94zm-11 1L8.5 8.5l.94-2.06 2.06-.94-2.06-.94L8.5 2.5l-.94 2.06-2.06.94zm10 10l.94 2.06.94-2.06 2.06-.94-2.06-.94-.94-2.06-.94 2.06-2.06.94z\"/><path d=\"M17.41 7.96l-1.37-1.37c-.4-.4-.92-.59-1.43-.59-.52 0-1.04.2-1.43.59L10.3 9.45l-7.72 7.72c-.78.78-.78 2.05 0 2.83L4 21.41c.39.39.9.59 1.41.59.51 0 1.02-.2 1.41-.59l7.78-7.78 2.81-2.81c.8-.78.8-2.07 0-2.86zM5.41 20L4 18.59l7.72-7.72 1.47 1.35L5.41 20z\"/>\n",
              "  </svg>\n",
              "      </button>\n",
              "      \n",
              "  <style>\n",
              "    .colab-df-container {\n",
              "      display:flex;\n",
              "      flex-wrap:wrap;\n",
              "      gap: 12px;\n",
              "    }\n",
              "\n",
              "    .colab-df-convert {\n",
              "      background-color: #E8F0FE;\n",
              "      border: none;\n",
              "      border-radius: 50%;\n",
              "      cursor: pointer;\n",
              "      display: none;\n",
              "      fill: #1967D2;\n",
              "      height: 32px;\n",
              "      padding: 0 0 0 0;\n",
              "      width: 32px;\n",
              "    }\n",
              "\n",
              "    .colab-df-convert:hover {\n",
              "      background-color: #E2EBFA;\n",
              "      box-shadow: 0px 1px 2px rgba(60, 64, 67, 0.3), 0px 1px 3px 1px rgba(60, 64, 67, 0.15);\n",
              "      fill: #174EA6;\n",
              "    }\n",
              "\n",
              "    [theme=dark] .colab-df-convert {\n",
              "      background-color: #3B4455;\n",
              "      fill: #D2E3FC;\n",
              "    }\n",
              "\n",
              "    [theme=dark] .colab-df-convert:hover {\n",
              "      background-color: #434B5C;\n",
              "      box-shadow: 0px 1px 3px 1px rgba(0, 0, 0, 0.15);\n",
              "      filter: drop-shadow(0px 1px 2px rgba(0, 0, 0, 0.3));\n",
              "      fill: #FFFFFF;\n",
              "    }\n",
              "  </style>\n",
              "\n",
              "      <script>\n",
              "        const buttonEl =\n",
              "          document.querySelector('#df-0523c7b9-072d-45be-a5ee-199a882e0139 button.colab-df-convert');\n",
              "        buttonEl.style.display =\n",
              "          google.colab.kernel.accessAllowed ? 'block' : 'none';\n",
              "\n",
              "        async function convertToInteractive(key) {\n",
              "          const element = document.querySelector('#df-0523c7b9-072d-45be-a5ee-199a882e0139');\n",
              "          const dataTable =\n",
              "            await google.colab.kernel.invokeFunction('convertToInteractive',\n",
              "                                                     [key], {});\n",
              "          if (!dataTable) return;\n",
              "\n",
              "          const docLinkHtml = 'Like what you see? Visit the ' +\n",
              "            '<a target=\"_blank\" href=https://colab.research.google.com/notebooks/data_table.ipynb>data table notebook</a>'\n",
              "            + ' to learn more about interactive tables.';\n",
              "          element.innerHTML = '';\n",
              "          dataTable['output_type'] = 'display_data';\n",
              "          await google.colab.output.renderOutput(dataTable, element);\n",
              "          const docLink = document.createElement('div');\n",
              "          docLink.innerHTML = docLinkHtml;\n",
              "          element.appendChild(docLink);\n",
              "        }\n",
              "      </script>\n",
              "    </div>\n",
              "  </div>\n",
              "  "
            ]
          },
          "metadata": {},
          "execution_count": 5
        }
      ]
    },
    {
      "cell_type": "code",
      "source": [
        "stud.columns #showing various features present in the dataset"
      ],
      "metadata": {
        "colab": {
          "base_uri": "https://localhost:8080/"
        },
        "id": "u-RaaInr_l6v",
        "outputId": "b21aaf82-c573-4028-c653-554062b3e17c"
      },
      "execution_count": null,
      "outputs": [
        {
          "output_type": "execute_result",
          "data": {
            "text/plain": [
              "Index(['Hours', 'Scores'], dtype='object')"
            ]
          },
          "metadata": {},
          "execution_count": 6
        }
      ]
    },
    {
      "cell_type": "markdown",
      "source": [
        "### Checking for Missing Values"
      ],
      "metadata": {
        "id": "enQ_H3TLH5Fv"
      }
    },
    {
      "cell_type": "code",
      "source": [
        "stud.info()"
      ],
      "metadata": {
        "colab": {
          "base_uri": "https://localhost:8080/"
        },
        "id": "DXuxT6f8_n6S",
        "outputId": "53f826ba-2f7e-411d-cf6b-cc736bf25c07"
      },
      "execution_count": null,
      "outputs": [
        {
          "output_type": "stream",
          "name": "stdout",
          "text": [
            "<class 'pandas.core.frame.DataFrame'>\n",
            "RangeIndex: 25 entries, 0 to 24\n",
            "Data columns (total 2 columns):\n",
            " #   Column  Non-Null Count  Dtype  \n",
            "---  ------  --------------  -----  \n",
            " 0   Hours   25 non-null     float64\n",
            " 1   Scores  25 non-null     int64  \n",
            "dtypes: float64(1), int64(1)\n",
            "memory usage: 528.0 bytes\n"
          ]
        }
      ]
    },
    {
      "cell_type": "code",
      "source": [
        "stud.isnull().sum() #concludes that no missing values are there in the dataset"
      ],
      "metadata": {
        "colab": {
          "base_uri": "https://localhost:8080/"
        },
        "id": "uLifl2_0_pfV",
        "outputId": "79a02ceb-4496-4539-c49d-a674082b3189"
      },
      "execution_count": null,
      "outputs": [
        {
          "output_type": "execute_result",
          "data": {
            "text/plain": [
              "Hours     0\n",
              "Scores    0\n",
              "dtype: int64"
            ]
          },
          "metadata": {},
          "execution_count": 8
        }
      ]
    },
    {
      "cell_type": "markdown",
      "source": [
        "### Displaying the Dataset"
      ],
      "metadata": {
        "id": "aDso3OUiIEup"
      }
    },
    {
      "cell_type": "code",
      "source": [
        "x = stud[['Hours']]\n",
        "y = stud[['Scores']]"
      ],
      "metadata": {
        "id": "u_C-mFJn7iwZ"
      },
      "execution_count": null,
      "outputs": []
    },
    {
      "cell_type": "code",
      "source": [
        "plt.scatter(x,y,color = 'red')\n",
        "plt.xlabel('No. of Hours studied')\n",
        "plt.ylabel('Marks Obtained')\n",
        "plt.title('Hours Vs Marks')\n",
        "plt.grid()\n",
        "plt.show()"
      ],
      "metadata": {
        "colab": {
          "base_uri": "https://localhost:8080/",
          "height": 295
        },
        "id": "Fzd1eb6T_tWg",
        "outputId": "2c7a05b2-7288-44cb-ba7b-f9c117414d9d"
      },
      "execution_count": null,
      "outputs": [
        {
          "output_type": "display_data",
          "data": {
            "text/plain": [
              "<Figure size 432x288 with 1 Axes>"
            ],
            "image/png": "[encoded data removed]"
          },
          "metadata": {
            "needs_background": "light"
          }
        }
      ]
    },
    {
      "cell_type": "markdown",
      "source": [
        "##### From the above Scatter Plot we can conclude that 'Hours studied' & 'Marks Obtained' are linearly related. Hence we'll use LinearRegression to build our model"
      ],
      "metadata": {
        "id": "qSrIo5MVIKVF"
      }
    },
    {
      "cell_type": "markdown",
      "source": [
        "### Splitting DataSet"
      ],
      "metadata": {
        "id": "QuOYzv2MIi9Z"
      }
    },
    {
      "cell_type": "code",
      "source": [
        "x = stud.drop('Scores',axis = 1)\n",
        "y = stud[['Scores']]"
      ],
      "metadata": {
        "id": "9mbflXtcAJmT"
      },
      "execution_count": null,
      "outputs": []
    },
    {
      "cell_type": "code",
      "source": [
        "x.shape,y.shape"
      ],
      "metadata": {
        "colab": {
          "base_uri": "https://localhost:8080/"
        },
        "id": "Kj4PK-1ZATtY",
        "outputId": "a872e6c0-6378-45e3-c7c1-26e79ddb5916"
      },
      "execution_count": null,
      "outputs": [
        {
          "output_type": "execute_result",
          "data": {
            "text/plain": [
              "((25, 1), (25, 1))"
            ]
          },
          "metadata": {},
          "execution_count": 13
        }
      ]
    },
    {
      "cell_type": "code",
      "source": [
        "X_train,X_test,Y_train,Y_test = train_test_split(x, y, test_size = 0.30, random_state = 0)\n",
        "\n",
        "#using train_test_split to create Training and Testing Data"
      ],
      "metadata": {
        "id": "N5Fy93ydAbMw"
      },
      "execution_count": null,
      "outputs": []
    },
    {
      "cell_type": "code",
      "source": [
        "print('Shape of Training DataSet:',X_train.shape)\n",
        "print('Shape of Testing DataSet:',X_test.shape)"
      ],
      "metadata": {
        "colab": {
          "base_uri": "https://localhost:8080/"
        },
        "id": "Hp8XncM5AmX0",
        "outputId": "42fdb105-050f-4c8d-e12a-02accf1a5c89"
      },
      "execution_count": null,
      "outputs": [
        {
          "output_type": "stream",
          "name": "stdout",
          "text": [
            "Shape of Training DataSet: (17, 1)\n",
            "Shape of Testing DataSet: (8, 1)\n"
          ]
        }
      ]
    },
    {
      "cell_type": "markdown",
      "source": [
        "### Training DataSet"
      ],
      "metadata": {
        "id": "vEs1gXC4JCMK"
      }
    },
    {
      "cell_type": "code",
      "source": [
        "reg_model = LinearRegression()  #using LinearRegression for our model"
      ],
      "metadata": {
        "id": "yytdE8rhAqWV"
      },
      "execution_count": null,
      "outputs": []
    },
    {
      "cell_type": "code",
      "source": [
        "reg_model.fit(X_train,Y_train)\n",
        "print('Training Completed')"
      ],
      "metadata": {
        "colab": {
          "base_uri": "https://localhost:8080/"
        },
        "id": "FUGM7VhgBAeb",
        "outputId": "8d3a3310-1430-4cd0-9938-f88bd5c0a657"
      },
      "execution_count": null,
      "outputs": [
        {
          "output_type": "stream",
          "name": "stdout",
          "text": [
            "Training Completed\n"
          ]
        }
      ]
    },
    {
      "cell_type": "markdown",
      "source": [
        "### Checking Accuracy of Model on Training Data"
      ],
      "metadata": {
        "id": "SyfvOxXeJQJo"
      }
    },
    {
      "cell_type": "code",
      "source": [
        "y_train_pred = reg_model.predict(X_train) #storing the predicted value of training dataset"
      ],
      "metadata": {
        "id": "T17yyq_ZBDRL"
      },
      "execution_count": null,
      "outputs": []
    },
    {
      "cell_type": "code",
      "source": [
        "print('Model Accuracy on Training Dataset:',reg_model.score(X_train,Y_train)) #printing the accuracy of model on training data"
      ],
      "metadata": {
        "colab": {
          "base_uri": "https://localhost:8080/"
        },
        "id": "QCKdQWHxBHsE",
        "outputId": "b0dd6245-f13e-4650-9ce5-84a11c583f55"
      },
      "execution_count": null,
      "outputs": [
        {
          "output_type": "stream",
          "name": "stdout",
          "text": [
            "Model Accuracy on Training Dataset: 0.9484997422695115\n"
          ]
        }
      ]
    },
    {
      "cell_type": "markdown",
      "source": [
        "#### Displaying Model Accuracy on Training Data"
      ],
      "metadata": {
        "id": "IDYEGL_gJiX1"
      }
    },
    {
      "cell_type": "code",
      "source": [
        "plt.scatter(X_train,Y_train,color = 'blue')\n",
        "plt.plot(X_train,y_train_pred,color = 'red')\n",
        "plt.grid()\n",
        "plt.xlabel('No. of Hours Studied')\n",
        "plt.ylabel('Marks Obtained')\n",
        "plt.title('Hours Studied Vs Marks Obtained')\n",
        "plt.show()"
      ],
      "metadata": {
        "colab": {
          "base_uri": "https://localhost:8080/",
          "height": 295
        },
        "id": "nnx0dJzIBUzO",
        "outputId": "581a8d06-da1c-4e79-d0af-1decc52cc1d0"
      },
      "execution_count": null,
      "outputs": [
        {
          "output_type": "display_data",
          "data": {
            "text/plain": [
              "<Figure size 432x288 with 1 Axes>"
            ],
            "image/png": "[encoded data removed]"
          },
          "metadata": {
            "needs_background": "light"
          }
        }
      ]
    },
    {
      "cell_type": "markdown",
      "source": [
        "### Checking Model Accuracy Graphically on Testing Data"
      ],
      "metadata": {
        "id": "QqqpXOPrJopw"
      }
    },
    {
      "cell_type": "code",
      "source": [
        "y_pred_test = reg_model.predict(X_test) #storing predicted value of testing data"
      ],
      "metadata": {
        "id": "46LGcapSBvl1"
      },
      "execution_count": null,
      "outputs": []
    },
    {
      "cell_type": "code",
      "source": [
        "print('Model Accuracy on Testing DataSet:',reg_model.score(X_test,Y_test)) #printing the accuracy of model on test data"
      ],
      "metadata": {
        "colab": {
          "base_uri": "https://localhost:8080/"
        },
        "id": "4ICnhNi8B7KQ",
        "outputId": "3a0d355c-8e4e-41c7-d988-6db1c940c3b7"
      },
      "execution_count": null,
      "outputs": [
        {
          "output_type": "stream",
          "name": "stdout",
          "text": [
            "Model Accuracy on Testing DataSet: 0.9568211104435257\n"
          ]
        }
      ]
    },
    {
      "cell_type": "markdown",
      "source": [
        "### Displaying Model Accuracy Graphically of Testing Data"
      ],
      "metadata": {
        "id": "aVyQScoCJ7Un"
      }
    },
    {
      "cell_type": "code",
      "source": [
        "plt.scatter(X_test,Y_test,color='blue')\n",
        "plt.plot(X_test,y_pred_test,color='red')\n",
        "plt.grid()\n",
        "plt.title('Hours Studied Vs Marks Obtained')\n",
        "plt.xlabel('No. of Hours Studied')\n",
        "plt.ylabel('Marks Obtained')\n",
        "plt.show()"
      ],
      "metadata": {
        "colab": {
          "base_uri": "https://localhost:8080/",
          "height": 295
        },
        "id": "ga7NiND6CFQl",
        "outputId": "8310d641-c366-4f5f-eb79-38502854a528"
      },
      "execution_count": null,
      "outputs": [
        {
          "output_type": "display_data",
          "data": {
            "text/plain": [
              "<Figure size 432x288 with 1 Axes>"
            ],
            "image/png": "[encoded data removed]"
          },
          "metadata": {
            "needs_background": "light"
          }
        }
      ]
    },
    {
      "cell_type": "markdown",
      "source": [
        "### Making Prediction "
      ],
      "metadata": {
        "id": "o2hOuT0jKHf1"
      }
    },
    {
      "cell_type": "code",
      "source": [
        "hours = 9.25 \n",
        "#here we are checking the percentage of a random student on the basis of the no of hours studied\n",
        "hours = np.array(hours)\n",
        "hours = hours.reshape(1,-1)\n",
        "pred = reg_model.predict(hours)\n",
        "print('No.of Hours Studied: {} '.format(hours[0][0]))\n",
        "print('Marks Predicted: {}'.format(pred[0][0]))\n"
      ],
      "metadata": {
        "colab": {
          "base_uri": "https://localhost:8080/"
        },
        "id": "I-ipiWKZCg7b",
        "outputId": "1b15f045-82eb-4ddc-e734-c5b6c4bffe34"
      },
      "execution_count": null,
      "outputs": [
        {
          "output_type": "stream",
          "name": "stdout",
          "text": [
            "No.of Hours Studied: 9.25 \n",
            "Marks Predicted: 92.91505723477056\n"
          ]
        },
        {
          "output_type": "stream",
          "name": "stderr",
          "text": [
            "/usr/local/lib/python3.7/dist-packages/sklearn/base.py:451: UserWarning: X does not have valid feature names, but LinearRegression was fitted with feature names\n",
            "  \"X does not have valid feature names, but\"\n"
          ]
        }
      ]
    },
    {
      "cell_type": "markdown",
      "source": [
        "### Evaluating the Performance of our Model "
      ],
      "metadata": {
        "id": "u6Q9NVR3Ksq-"
      }
    },
    {
      "cell_type": "markdown",
      "source": [
        "#### Performance of our model is being calculated on the basis of mean absolute error made. Lesser the error value better is the performance of the model"
      ],
      "metadata": {
        "id": "eilEsHrFKws_"
      }
    },
    {
      "cell_type": "code",
      "source": [
        "from sklearn import metrics\n",
        "print('Mean Absolute Error:',metrics.mean_absolute_error(Y_test,y_pred_test))"
      ],
      "metadata": {
        "colab": {
          "base_uri": "https://localhost:8080/"
        },
        "id": "10TYhoocFOeM",
        "outputId": "0bc87df1-3e5e-4a9e-81d3-0aab1a6482e3"
      },
      "execution_count": null,
      "outputs": [
        {
          "output_type": "stream",
          "name": "stdout",
          "text": [
            "Mean Absolute Error: 4.419727808027651\n"
          ]
        }
      ]
    },
    {
      "cell_type": "markdown",
      "source": [
        "##**Conclusion: Our model predicted that the student who studies about 9.25 hrs/day has a very good chance of getting 92.91% of marks in the examination**"
      ],
      "metadata": {
        "id": "SCcdpyuj78AQ"
      }
    },
    {
      "cell_type": "code",
      "source": [
        ""
      ],
      "metadata": {
        "id": "phkSK0wr8cow"
      },
      "execution_count": null,
      "outputs": []
    }
  ]
}